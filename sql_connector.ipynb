{
 "cells": [
  {
   "cell_type": "markdown",
   "id": "1e5f1174",
   "metadata": {},
   "source": [
    "#### Import database specific module \n",
    "Ex. import cx_Oracle\n"
   ]
  },
  {
   "cell_type": "code",
   "execution_count": 2,
   "id": "bb0286e0",
   "metadata": {},
   "outputs": [],
   "source": [
    "# importing module\n",
    "import cx_Oracle"
   ]
  },
  {
   "cell_type": "markdown",
   "id": "71e60271",
   "metadata": {},
   "source": [
    "The GET_HOST_ADDRESS function returns the IP address of the specified host name.\n",
    "##### SQL> SELECT UTL_INADDR.get_host_address('bart') FROM dual;\n",
    "\n",
    "The IP address of the database server is returned if the specified host name is NULL or is omitted.\n",
    "##### SQL> SELECT UTL_INADDR.get_host_address from dual; "
   ]
  },
  {
   "cell_type": "markdown",
   "id": "86f34f74",
   "metadata": {},
   "source": [
    "__connect():__ Now Establish a connection between the Python program and Oracle database by using connect() function. \n",
    "\n",
    "**cursor():** To execute a SQL query and to provide results some special object is required that is nothing but cursor() object.\n",
    "\n",
    "**commit():** For DML(Data Manipulation Language) queries that comprise operations like update, insert, delete. We need to commit() then only the result reflects in the database.\n",
    "\n",
    "**close():** After all done it is mandatory to close all operations.\n",
    "<br>__cursor.close()__\n",
    "<br>__con.close()__"
   ]
  },
  {
   "cell_type": "markdown",
   "id": "c2abf477",
   "metadata": {},
   "source": [
    "# 1. Creation of table"
   ]
  },
  {
   "cell_type": "code",
   "execution_count": 6,
   "id": "ae635065",
   "metadata": {},
   "outputs": [
    {
     "name": "stdout",
     "output_type": "stream",
     "text": [
      "11.2.0.2.0\n",
      "Table Created successfully\n"
     ]
    }
   ],
   "source": [
    "# Create a table in Oracle database\n",
    "try:\n",
    "\n",
    "    con = cx_Oracle.connect('abhishek/abhi123@192.168.1.212') #'username/password@localhost'\n",
    "    print(con.version)\n",
    "\n",
    "    # Now execute the sqlquery\n",
    "    cursor = con.cursor()\n",
    "\n",
    "    # Creating a table employee\n",
    "    cursor.execute(\n",
    "        \"create table employee1(empid integer primary key, name varchar2(30), salary number(10, 2))\")\n",
    "\n",
    "    print(\"Table Created successfully\")\n",
    "\n",
    "except cx_Oracle.DatabaseError as e:\n",
    "    print(\"There is a problem with Oracle\", e)\n",
    "\n",
    "# by writing finally if any error occurs\n",
    "# then also we can close the all database operation\n",
    "finally:\n",
    "    if cursor:\n",
    "        cursor.close()\n",
    "    if con:\n",
    "        con.close()\n"
   ]
  },
  {
   "cell_type": "markdown",
   "id": "363d7290",
   "metadata": {},
   "source": [
    "DDL statements don’t require to be committed. They are automatically committed.<br>\n",
    "execute() method is used to execute an SQL statement."
   ]
  },
  {
   "cell_type": "markdown",
   "id": "848046ac",
   "metadata": {},
   "source": [
    "# 2. Inserting a record into table using execute() method"
   ]
  },
  {
   "cell_type": "code",
   "execution_count": 7,
   "id": "64ef60d7",
   "metadata": {},
   "outputs": [
    {
     "name": "stdout",
     "output_type": "stream",
     "text": [
      "Record inserted successfully\n"
     ]
    }
   ],
   "source": [
    "# Inserting a record into a table in Oracle database\n",
    "try:\n",
    "    con = cx_Oracle.connect('abhishek/abhi123@192.168.1.212')\n",
    "    cursor = con.cursor()\n",
    " \n",
    "    #con.autocommit = True\n",
    "    # Inserting a record into table employee\n",
    "    cursor.execute('insert into employee1 values(10001,\\'Rahul\\',50000.50)')\n",
    " \n",
    "    # commit() to make changes reflect in the database\n",
    "    con.commit()\n",
    "    print('Record inserted successfully')\n",
    " \n",
    "except cx_Oracle.DatabaseError as e:\n",
    "    print(\"There is a problem with Oracle\", e)\n",
    " \n",
    "# by writing finally if any error occurs\n",
    "# then also we can close the all database operation\n",
    "finally:\n",
    "    if cursor:\n",
    "        cursor.close()\n",
    "    if con:\n",
    "        con.close()"
   ]
  },
  {
   "cell_type": "markdown",
   "id": "91b9ccb4",
   "metadata": {},
   "source": [
    "Once we execute any DML statement it is required to commit the transaction.<br>\n",
    "You can commit a transaction in 2 ways: –\n",
    "\n",
    "__con.commit().__ This is used to commit a transaction manually.<br>\n",
    "__con.autocommit = True.__ This is used to commit a transaction automatically."
   ]
  },
  {
   "cell_type": "markdown",
   "id": "bb567d58",
   "metadata": {},
   "source": [
    "# 3. Inserting multiple records into a table using executemany() method"
   ]
  },
  {
   "cell_type": "code",
   "execution_count": 8,
   "id": "c488c845",
   "metadata": {},
   "outputs": [
    {
     "name": "stdout",
     "output_type": "stream",
     "text": [
      "Multiple records are inserted successfully\n"
     ]
    }
   ],
   "source": [
    "# Load data from a csv file into Oracle table using executemany\n",
    "try:\n",
    "    con = cx_Oracle.connect('abhishek/abhi123@192.168.1.212')\n",
    " \n",
    "except cx_Oracle.DatabaseError as er:\n",
    "    print('There is an error in Oracle database:', er)\n",
    " \n",
    "else:\n",
    "    try:\n",
    "        cur = con.cursor()\n",
    "        data = [[10007, 'Vikram', 48000.0], [10008, 'Sunil', 65000.1], [10009, 'Sameer', 75000.0]]\n",
    " \n",
    "        cur = con.cursor()\n",
    "        # Inserting multiple records into employee table\n",
    "        # (:1,:2,:3) are place holders. They pick data from a list supplied as argument\n",
    "        cur.executemany('insert into employee1 values(:1,:2,:3)', data)\n",
    " \n",
    "    except cx_Oracle.DatabaseError as er:\n",
    "        print('There is an error in Oracle database:', er)\n",
    " \n",
    "    except Exception as er:\n",
    "        print(er)\n",
    " \n",
    "    else:\n",
    "        # To commit the transaction manually\n",
    "        con.commit()\n",
    "        print('Multiple records are inserted successfully')\n",
    " \n",
    "finally:\n",
    "    if cur:\n",
    "        cur.close()\n",
    "    if con:\n",
    "        con.close()"
   ]
  },
  {
   "cell_type": "markdown",
   "id": "16ddc90f",
   "metadata": {},
   "source": [
    "# 4. View result set from a select query using : <br>\n",
    "\n",
    "# fetchall(), fetchmany(int), fetchone()"
   ]
  },
  {
   "cell_type": "code",
   "execution_count": 9,
   "id": "1d932786",
   "metadata": {},
   "outputs": [
    {
     "name": "stdout",
     "output_type": "stream",
     "text": [
      "[(10001, 'Rahul', 50000.5), (10007, 'Vikram', 48000.0), (10008, 'Sunil', 65000.1), (10009, 'Sameer', 75000.0)]\n",
      "[(10001, 'Rahul', 50000.5), (10007, 'Vikram', 48000.0), (10008, 'Sunil', 65000.1)]\n",
      "(10001, 'Rahul', 50000.5)\n"
     ]
    }
   ],
   "source": [
    "import cx_Oracle\n",
    "\n",
    "try:\n",
    "    con = cx_Oracle.connect('abhishek/abhi123@192.168.1.212')\n",
    "\n",
    "except cx_Oracle.DatabaseError as er:\n",
    "    print('There is an error in the Oracle database:', er)\n",
    "\n",
    "else:\n",
    "    try:\n",
    "        cur = con.cursor()\n",
    "\n",
    "        # fetchall() is used to fetch all records from result set\n",
    "        cur.execute('select * from employee1')\n",
    "        rows = cur.fetchall()\n",
    "        print(rows)\n",
    "\n",
    "        # fetchmany(int) is used to fetch limited number of records from result set based on integer argument passed in it\n",
    "        cur.execute('select * from employee1')\n",
    "        rows = cur.fetchmany(3)\n",
    "        print(rows)\n",
    "\n",
    "        # fetchone() is used fetch one record from top of the result set\n",
    "        cur.execute('select * from employee1')\n",
    "        rows = cur.fetchone()\n",
    "        print(rows)\n",
    "\n",
    "    except cx_Oracle.DatabaseError as er:\n",
    "        print('There is an error in the Oracle database:', er)\n",
    "\n",
    "    except Exception as er:\n",
    "        print('Error:'+str(er))\n",
    "\n",
    "    finally:\n",
    "        if cur:\n",
    "            cur.close()\n",
    "\n",
    "finally:\n",
    "    if con:\n",
    "        con.close()\n"
   ]
  },
  {
   "cell_type": "markdown",
   "id": "a25d9526",
   "metadata": {},
   "source": [
    "# 5. View result set from a select query using bind variable"
   ]
  },
  {
   "cell_type": "code",
   "execution_count": 10,
   "id": "761ca7e6",
   "metadata": {},
   "outputs": [
    {
     "name": "stdout",
     "output_type": "stream",
     "text": [
      "[(10001, 'Rahul', 50000.5), (10008, 'Sunil', 65000.1), (10009, 'Sameer', 75000.0)]\n"
     ]
    }
   ],
   "source": [
    "try:\n",
    "    con = cx_Oracle.connect('abhishek/abhi123@192.168.1.212')\n",
    " \n",
    "except cx_Oracle.DatabaseError as er:\n",
    "    print('There is error in the Oracle database:', er)\n",
    " \n",
    "else:\n",
    "    try:\n",
    "        cur = con.cursor()\n",
    "         \n",
    "        #here :sal is a bing variable which will be substituted with value of key of dictionary\n",
    "        cur.execute('select * from employee1 where salary > :sal', {'sal': 50000})\n",
    "        rows = cur.fetchall()\n",
    "        print(rows)\n",
    " \n",
    "    except cx_Oracle.DatabaseError as er:\n",
    "        print('There is error in the Oracle database:', er)\n",
    " \n",
    "    except Exception as er:\n",
    "        print('Error:', er)\n",
    " \n",
    "    finally:\n",
    "        if cur:\n",
    "            cur.close()\n",
    " \n",
    "finally:\n",
    "    if con:\n",
    "        con.close()"
   ]
  },
  {
   "cell_type": "markdown",
   "id": "78f3cd95",
   "metadata": {},
   "source": [
    "In this case, we have passed a dictionary in execute() method. This dictionary contains the name of the bind variable as a key, <br>and it’s corresponding value. When the SQL query is executed, value from the key is substituted in place of bind variable."
   ]
  },
  {
   "cell_type": "code",
   "execution_count": null,
   "id": "54cee248",
   "metadata": {},
   "outputs": [],
   "source": []
  }
 ],
 "metadata": {
  "kernelspec": {
   "display_name": "Python 3 (ipykernel)",
   "language": "python",
   "name": "python3"
  },
  "language_info": {
   "codemirror_mode": {
    "name": "ipython",
    "version": 3
   },
   "file_extension": ".py",
   "mimetype": "text/x-python",
   "name": "python",
   "nbconvert_exporter": "python",
   "pygments_lexer": "ipython3",
   "version": "3.9.18"
  }
 },
 "nbformat": 4,
 "nbformat_minor": 5
}
