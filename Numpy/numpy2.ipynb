{
 "cells": [
  {
   "cell_type": "code",
   "execution_count": 2,
   "id": "7b312104",
   "metadata": {},
   "outputs": [],
   "source": [
    "import numpy as np"
   ]
  },
  {
   "cell_type": "code",
   "execution_count": 3,
   "id": "25a352d5",
   "metadata": {},
   "outputs": [
    {
     "data": {
      "text/plain": [
       "array([2, 3, 4, 5, 6])"
      ]
     },
     "execution_count": 3,
     "metadata": {},
     "output_type": "execute_result"
    }
   ],
   "source": [
    "a = np.array([1,2,3,4,5])\n",
    "a+1 #scalar addition"
   ]
  },
  {
   "cell_type": "code",
   "execution_count": 4,
   "id": "9b621a15",
   "metadata": {},
   "outputs": [
    {
     "data": {
      "text/plain": [
       "array([ 1,  4,  9, 16, 25])"
      ]
     },
     "execution_count": 4,
     "metadata": {},
     "output_type": "execute_result"
    }
   ],
   "source": [
    "a**2"
   ]
  },
  {
   "cell_type": "code",
   "execution_count": 5,
   "id": "9c023a47",
   "metadata": {},
   "outputs": [
    {
     "data": {
      "text/plain": [
       "array([-1.,  0.,  1.,  2.,  3.])"
      ]
     },
     "execution_count": 5,
     "metadata": {},
     "output_type": "execute_result"
    }
   ],
   "source": [
    "b = np.ones(5)+1\n",
    "a-b"
   ]
  },
  {
   "cell_type": "code",
   "execution_count": 6,
   "id": "fa7aba35",
   "metadata": {},
   "outputs": [
    {
     "name": "stdout",
     "output_type": "stream",
     "text": [
      "[1 2 3 4 5]\n",
      "[2. 2. 2. 2. 2.]\n"
     ]
    },
    {
     "data": {
      "text/plain": [
       "array([ 2.,  4.,  6.,  8., 10.])"
      ]
     },
     "execution_count": 6,
     "metadata": {},
     "output_type": "execute_result"
    }
   ],
   "source": [
    "print(a)\n",
    "print(b)\n",
    "a*b"
   ]
  },
  {
   "cell_type": "code",
   "execution_count": 10,
   "id": "a7bc32e2",
   "metadata": {},
   "outputs": [
    {
     "name": "stdout",
     "output_type": "stream",
     "text": [
      "[[1 0 0 0 0]\n",
      " [0 2 0 0 0]\n",
      " [0 0 3 0 0]\n",
      " [0 0 0 4 0]\n",
      " [9 0 0 0 5]]\n",
      "\n",
      "[[ 1  0  0  0  0]\n",
      " [ 0  4  0  0  0]\n",
      " [ 0  0  9  0  0]\n",
      " [ 0  0  0 16  0]\n",
      " [81  0  0  0 25]]\n",
      "\n",
      "[[ 1  0  0  0  0]\n",
      " [ 0  4  0  0  0]\n",
      " [ 0  0  9  0  0]\n",
      " [ 0  0  0 16  0]\n",
      " [54  0  0  0 25]]\n",
      "\n",
      "[[ 1  0  0  0  0]\n",
      " [ 0  4  0  0  0]\n",
      " [ 0  0  9  0  0]\n",
      " [ 0  0  0 16  0]\n",
      " [54  0  0  0 25]]\n"
     ]
    }
   ],
   "source": [
    "# matrix multiplication\n",
    "c = np.diag([1,2,3,4,5])\n",
    "c[(4,0)] = 9\n",
    "print(c)\n",
    "print()\n",
    "print(c*c) # normal element to element multiplication\n",
    "print()\n",
    "print(c.dot(c)) #matrix multipication\n",
    "print()\n",
    "print(np.matmul(c,c)) #matrix multipication"
   ]
  },
  {
   "cell_type": "code",
   "execution_count": null,
   "id": "a1694068",
   "metadata": {},
   "outputs": [],
   "source": [
    "a = np.array([1,2,3,4,5])\n",
    "b = np.array([2,2,5,4,7])\n",
    "a==b"
   ]
  },
  {
   "cell_type": "code",
   "execution_count": null,
   "id": "9c540d03",
   "metadata": {},
   "outputs": [],
   "source": [
    "a<b"
   ]
  },
  {
   "cell_type": "code",
   "execution_count": null,
   "id": "eae18bc3",
   "metadata": {},
   "outputs": [],
   "source": [
    "# array wise comparison\n",
    "\n",
    "a = np.array([1,2,3,4,5])\n",
    "b = np.array([2,2,5,4,7])\n",
    "c = np.array([1,2,3,4,5])\n",
    "print(np.array_equal(a,b))\n",
    "print(np.array_equal(a,c))"
   ]
  },
  {
   "cell_type": "markdown",
   "id": "8b09a08d",
   "metadata": {},
   "source": [
    "### Logical Operations"
   ]
  },
  {
   "cell_type": "code",
   "execution_count": null,
   "id": "7b9c912b",
   "metadata": {},
   "outputs": [],
   "source": [
    "a = np.array([1,0,0,1,1], bool)\n",
    "b = np.array([1,1,0,-1,11], dtype=bool)\n",
    "print(a)\n",
    "print(b)\n",
    "np.logical_and(a,b)"
   ]
  },
  {
   "cell_type": "code",
   "execution_count": null,
   "id": "58eb5eae",
   "metadata": {},
   "outputs": [],
   "source": [
    "np.logical_xor(a,b)"
   ]
  },
  {
   "cell_type": "markdown",
   "id": "b0b08d33",
   "metadata": {},
   "source": [
    "### Transcendental function"
   ]
  },
  {
   "cell_type": "code",
   "execution_count": null,
   "id": "a292039c",
   "metadata": {},
   "outputs": [],
   "source": [
    "a = np.arange(5)\n",
    "np.sin(a)"
   ]
  },
  {
   "cell_type": "code",
   "execution_count": null,
   "id": "ea3e5411",
   "metadata": {},
   "outputs": [],
   "source": [
    "np.log(a)"
   ]
  },
  {
   "cell_type": "code",
   "execution_count": null,
   "id": "7d8009a7",
   "metadata": {},
   "outputs": [],
   "source": [
    "np.exp(a) #evaluates e^x for the each given input"
   ]
  },
  {
   "cell_type": "markdown",
   "id": "00e85fa1",
   "metadata": {},
   "source": [
    "# Basic Reductions\n",
    "\n",
    "### Computing Sums"
   ]
  },
  {
   "cell_type": "code",
   "execution_count": null,
   "id": "838b9466",
   "metadata": {},
   "outputs": [],
   "source": [
    "a = np.array([1,2,3,4,5])\n",
    "print(np.sum(a))\n",
    "print(a.sum())"
   ]
  },
  {
   "cell_type": "code",
   "execution_count": null,
   "id": "5e115f91",
   "metadata": {},
   "outputs": [],
   "source": [
    "a = np.array([[1,2],[3,4]])\n",
    "print(a)\n",
    "print()\n",
    "print(np.sum(a,axis=0)) # columns (first dimension)\n",
    "print()\n",
    "print(a.sum(axis=0))\n",
    "print()\n",
    "print(np.sum(a,axis=1)) # rows (second dimension)\n",
    "print()\n",
    "print(a.sum(axis=1))"
   ]
  },
  {
   "cell_type": "markdown",
   "id": "7ea08aa8",
   "metadata": {},
   "source": [
    "### Other reductions"
   ]
  },
  {
   "cell_type": "code",
   "execution_count": null,
   "id": "43f6a442",
   "metadata": {},
   "outputs": [],
   "source": [
    "a = np.array([10,2,71,4,5])\n",
    "print(a.max()) # min element\n",
    "print(a.argmax()) #min element index"
   ]
  },
  {
   "cell_type": "markdown",
   "id": "985e0003",
   "metadata": {},
   "source": [
    "### Logical Operations"
   ]
  },
  {
   "cell_type": "code",
   "execution_count": null,
   "id": "7ae3bd27",
   "metadata": {},
   "outputs": [],
   "source": [
    "print( np.all([True, True, False]) ) # Returns True if all the values are True\n",
    "print( np.all([True, True, True]) )"
   ]
  },
  {
   "cell_type": "code",
   "execution_count": null,
   "id": "5c3e24c6",
   "metadata": {},
   "outputs": [],
   "source": [
    "print( np.any([True, True, False]) ) # Returns True if any value is True\n",
    "print( np.any([True, True, True]) )"
   ]
  },
  {
   "cell_type": "code",
   "execution_count": null,
   "id": "501ed784",
   "metadata": {},
   "outputs": [],
   "source": [
    "a = np.zeros((5,5))\n",
    "print(a)\n",
    "print()\n",
    "print(a==0)\n",
    "print()\n",
    "print( np.all(a==0) )\n"
   ]
  },
  {
   "cell_type": "code",
   "execution_count": null,
   "id": "9bdb8642",
   "metadata": {},
   "outputs": [],
   "source": [
    "a = np.array([1,2,3,4,5])\n",
    "b = np.array([2,2,5,4,7])\n",
    "c = np.array([1,2,3,4,5])\n",
    "\n",
    "((a>b) | (b<=c)).any()"
   ]
  },
  {
   "cell_type": "markdown",
   "id": "4fbfa668",
   "metadata": {},
   "source": [
    "### Statistic"
   ]
  },
  {
   "cell_type": "code",
   "execution_count": null,
   "id": "098799e2",
   "metadata": {},
   "outputs": [],
   "source": [
    "a = np.array([1,2,3,4,5])\n",
    "b = np.array([[2,2,5,4,7],[1,2,3,4,5]])\n",
    "\n",
    "np.median(a)"
   ]
  },
  {
   "cell_type": "code",
   "execution_count": null,
   "id": "27b5b79c",
   "metadata": {},
   "outputs": [],
   "source": [
    "np.median(b)"
   ]
  },
  {
   "cell_type": "code",
   "execution_count": null,
   "id": "f3ff68ef",
   "metadata": {},
   "outputs": [],
   "source": [
    "np.median(b,axis=1)"
   ]
  },
  {
   "cell_type": "code",
   "execution_count": null,
   "id": "d541bce9",
   "metadata": {},
   "outputs": [],
   "source": [
    "a.mean()"
   ]
  },
  {
   "cell_type": "code",
   "execution_count": null,
   "id": "ee05c903",
   "metadata": {},
   "outputs": [],
   "source": [
    "a.std() # standard deviation"
   ]
  },
  {
   "cell_type": "markdown",
   "id": "8cd5135b",
   "metadata": {},
   "source": [
    "# Broadcasting\n",
    "\n",
    "The term broadcasting describes how NumPy treats arrays with different shapes during arithmetic operations. \n",
    "Subject to certain constraints, the smaller array is “broadcast” across the larger array so that they have compatible shapes."
   ]
  },
  {
   "cell_type": "code",
   "execution_count": null,
   "id": "10d3765d",
   "metadata": {},
   "outputs": [],
   "source": [
    "a = np.arange(0,20,5)\n",
    "a"
   ]
  },
  {
   "cell_type": "code",
   "execution_count": null,
   "id": "458177a4",
   "metadata": {},
   "outputs": [],
   "source": [
    "b = np.tile(a, (4,1))\n",
    "print(b)\n",
    "b.T #transpose of b"
   ]
  },
  {
   "cell_type": "code",
   "execution_count": null,
   "id": "e6116d96",
   "metadata": {},
   "outputs": [],
   "source": [
    "np.tile(a, (4,2))"
   ]
  },
  {
   "cell_type": "code",
   "execution_count": null,
   "id": "e91bfc42",
   "metadata": {},
   "outputs": [],
   "source": [
    "print(a)\n",
    "print()\n",
    "print(b)\n",
    "print()\n",
    "print(a+b)"
   ]
  },
  {
   "cell_type": "code",
   "execution_count": null,
   "id": "bc9aaf3c",
   "metadata": {},
   "outputs": [],
   "source": [
    "a = np.arange(0,40,10)\n",
    "a.shape"
   ]
  },
  {
   "cell_type": "code",
   "execution_count": null,
   "id": "ca1c77e4",
   "metadata": {},
   "outputs": [],
   "source": [
    "a = a[:,np.newaxis] #adds a new axis -> 2-D array\n",
    "print(a)\n",
    "a.shape"
   ]
  },
  {
   "cell_type": "markdown",
   "id": "4324346a",
   "metadata": {},
   "source": [
    "### Flattening"
   ]
  },
  {
   "cell_type": "code",
   "execution_count": null,
   "id": "f32f1e1d",
   "metadata": {},
   "outputs": [],
   "source": [
    "a = np.array([[2,2,5,4,7],[1,2,3,4,5]])\n",
    "a.ravel() #converts 2-D array to 1-D "
   ]
  },
  {
   "cell_type": "code",
   "execution_count": null,
   "id": "51e2e2b5",
   "metadata": {},
   "outputs": [],
   "source": [
    "a = np.array([[2,2,5,4,7],[1,2,3,4,5]])\n",
    "a = a.reshape((10,)) #converts 2-D array to 1-D \n",
    "a"
   ]
  },
  {
   "cell_type": "code",
   "execution_count": null,
   "id": "187c7e25",
   "metadata": {},
   "outputs": [],
   "source": [
    "a.reshape((5,2))"
   ]
  },
  {
   "cell_type": "markdown",
   "id": "f93adf41",
   "metadata": {},
   "source": [
    "#### Note:   When we perform some operations in arrays in numpy. Numpy doesn't returns a copy rather it takes the reference.\n",
    " \n",
    "#### Reshape may also return a copy"
   ]
  },
  {
   "cell_type": "code",
   "execution_count": null,
   "id": "036d4ab0",
   "metadata": {},
   "outputs": [],
   "source": [
    "a = np.array([1,2,3,4,5])\n",
    "a.resize((10,))\n",
    "a"
   ]
  },
  {
   "cell_type": "code",
   "execution_count": null,
   "id": "607e84ff",
   "metadata": {},
   "outputs": [],
   "source": [
    "a.resize((5,)) # bug"
   ]
  },
  {
   "cell_type": "markdown",
   "id": "d0481823",
   "metadata": {},
   "source": [
    "### Sorting Data"
   ]
  },
  {
   "cell_type": "code",
   "execution_count": null,
   "id": "01530d51",
   "metadata": {},
   "outputs": [],
   "source": [
    "a = np.array([[2,2,5,4,1],[1,2,3,4,5]])\n",
    "print(a)\n",
    "print()\n",
    "\n",
    "np.sort(a,axis=1) # sort and returns value"
   ]
  },
  {
   "cell_type": "code",
   "execution_count": null,
   "id": "5a380832",
   "metadata": {},
   "outputs": [],
   "source": [
    "a.sort(axis=1) # sort the original array itself\n",
    "a"
   ]
  },
  {
   "cell_type": "code",
   "execution_count": null,
   "id": "fdaf5c82",
   "metadata": {},
   "outputs": [],
   "source": [
    "# sort with fancy indexing\n",
    "a = np.array([[2,2,5,4,1],[1,2,3,4,5]]) \n",
    "print(a)\n",
    "print()\n",
    "index_of_sorted_elements = np.argsort(a) # returns the array of indexes inplace of sorted elements\n",
    "index_of_sorted_elements"
   ]
  },
  {
   "cell_type": "code",
   "execution_count": null,
   "id": "f925cf4f",
   "metadata": {},
   "outputs": [],
   "source": [
    "a = np.array([2,2,5,4,1])\n",
    "index_of_sorted_elements = np.argsort(a) # returns the array of indexes inplace of sorted elements\n",
    "print(index_of_sorted_elements)\n",
    "print()\n",
    "a[index_of_sorted_elements]"
   ]
  },
  {
   "cell_type": "code",
   "execution_count": null,
   "id": "127b7642",
   "metadata": {},
   "outputs": [],
   "source": []
  }
 ],
 "metadata": {
  "kernelspec": {
   "display_name": "Python 3 (ipykernel)",
   "language": "python",
   "name": "python3"
  },
  "language_info": {
   "codemirror_mode": {
    "name": "ipython",
    "version": 3
   },
   "file_extension": ".py",
   "mimetype": "text/x-python",
   "name": "python",
   "nbconvert_exporter": "python",
   "pygments_lexer": "ipython3",
   "version": "3.9.18"
  }
 },
 "nbformat": 4,
 "nbformat_minor": 5
}
